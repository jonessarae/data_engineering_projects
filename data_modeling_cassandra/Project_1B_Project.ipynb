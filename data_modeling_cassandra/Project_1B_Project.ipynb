{
 "cells": [
  {
   "cell_type": "markdown",
   "metadata": {},
   "source": [
    "# Part I. ETL Pipeline for Pre-Processing the Files"
   ]
  },
  {
   "cell_type": "markdown",
   "metadata": {},
   "source": [
    "#### Import Python packages "
   ]
  },
  {
   "cell_type": "code",
   "execution_count": 1,
   "metadata": {},
   "outputs": [],
   "source": [
    "# Import Python packages \n",
    "import pandas as pd\n",
    "import cassandra\n",
    "import re\n",
    "import os\n",
    "import glob\n",
    "import numpy as np\n",
    "import json\n",
    "import csv"
   ]
  },
  {
   "cell_type": "markdown",
   "metadata": {},
   "source": [
    "#### Creating list of filepaths to process original event csv data files"
   ]
  },
  {
   "cell_type": "code",
   "execution_count": 2,
   "metadata": {},
   "outputs": [
    {
     "name": "stdout",
     "output_type": "stream",
     "text": [
      "/home/workspace\n"
     ]
    }
   ],
   "source": [
    "# checking your current working directory\n",
    "print(os.getcwd())\n",
    "\n",
    "# Get your current folder and subfolder event data\n",
    "filepath = os.getcwd() + '/event_data'\n",
    "\n",
    "# Create a for loop to create a list of files and collect each filepath\n",
    "for root, dirs, files in os.walk(filepath):\n",
    "    \n",
    "# join the file path and roots with the subdirectories using glob\n",
    "    file_path_list = glob.glob(os.path.join(root,'*'))\n",
    "    #print(file_path_list)"
   ]
  },
  {
   "cell_type": "markdown",
   "metadata": {},
   "source": [
    "#### Processing the files to create the data file csv that will be used for Apache Casssandra tables"
   ]
  },
  {
   "cell_type": "code",
   "execution_count": 3,
   "metadata": {},
   "outputs": [
    {
     "name": "stdout",
     "output_type": "stream",
     "text": [
      "8056\n"
     ]
    }
   ],
   "source": [
    "# initiating an empty list of rows that will be generated from each file\n",
    "full_data_rows_list = [] \n",
    "    \n",
    "# for every filepath in the file path list \n",
    "for f in file_path_list:\n",
    "\n",
    "# reading csv file \n",
    "    with open(f, 'r', encoding = 'utf8', newline='') as csvfile: \n",
    "        # creating a csv reader object \n",
    "        csvreader = csv.reader(csvfile) \n",
    "        next(csvreader)\n",
    "        \n",
    " # extracting each data row one by one and append it        \n",
    "        for line in csvreader:\n",
    "            #print(line)\n",
    "            full_data_rows_list.append(line) \n",
    "            \n",
    "# uncomment the code below if you would like to get total number of rows \n",
    "print(len(full_data_rows_list))\n",
    "# uncomment the code below if you would like to check to see what the list of event data rows will look like\n",
    "#print(full_data_rows_list)\n",
    "\n",
    "# creating a smaller event data csv file called event_datafile_full csv that will be used to insert data into the \\\n",
    "# Apache Cassandra tables\n",
    "csv.register_dialect('myDialect', quoting=csv.QUOTE_ALL, skipinitialspace=True)\n",
    "\n",
    "with open('event_datafile_new.csv', 'w', encoding = 'utf8', newline='') as f:\n",
    "    writer = csv.writer(f, dialect='myDialect')\n",
    "    writer.writerow(['artist','firstName','gender','itemInSession','lastName','length',\\\n",
    "                'level','location','sessionId','song','userId'])\n",
    "    for row in full_data_rows_list:\n",
    "        if (row[0] == ''):\n",
    "            continue\n",
    "        writer.writerow((row[0], row[2], row[3], row[4], row[5], row[6], row[7], row[8], row[12], row[13], row[16]))\n"
   ]
  },
  {
   "cell_type": "code",
   "execution_count": 4,
   "metadata": {},
   "outputs": [
    {
     "name": "stdout",
     "output_type": "stream",
     "text": [
      "6821\n"
     ]
    }
   ],
   "source": [
    "# check the number of rows in your csv file\n",
    "with open('event_datafile_new.csv', 'r', encoding = 'utf8') as f:\n",
    "    print(sum(1 for line in f))"
   ]
  },
  {
   "cell_type": "markdown",
   "metadata": {},
   "source": [
    "# Part II. Create queries using Apache Cassandra\n",
    "\n",
    "## The CSV file titled *event_datafile_new.csv*, contains the following columns: \n",
    "\n",
    "- artist \n",
    "- firstName of user\n",
    "- gender of user\n",
    "- item number in session\n",
    "- last name of user\n",
    "- length of the song\n",
    "- level (paid or free song)\n",
    "- location of the user\n",
    "- sessionId\n",
    "- song title\n",
    "- userId\n",
    "\n",
    "The image below is a screenshot of what the denormalized data should appear like in the <font color=red>**event_datafile_new.csv**</font> after the code above is run:<br>\n",
    "\n",
    "<img src=\"images/image_event_datafile_new.jpg\">"
   ]
  },
  {
   "cell_type": "markdown",
   "metadata": {},
   "source": [
    "#### Creating a Cluster"
   ]
  },
  {
   "cell_type": "code",
   "execution_count": 5,
   "metadata": {},
   "outputs": [],
   "source": [
    "# This should make a connection to a Cassandra instance your local machine \n",
    "# (127.0.0.1)\n",
    "\n",
    "from cassandra.cluster import Cluster\n",
    "cluster = Cluster()\n",
    "\n",
    "# To establish connection and begin executing queries, need a session\n",
    "session = cluster.connect()"
   ]
  },
  {
   "cell_type": "markdown",
   "metadata": {},
   "source": [
    "#### Create Keyspace"
   ]
  },
  {
   "cell_type": "code",
   "execution_count": 6,
   "metadata": {},
   "outputs": [
    {
     "data": {
      "text/plain": [
       "<cassandra.cluster.ResultSet at 0x7fedbbf41cc0>"
      ]
     },
     "execution_count": 6,
     "metadata": {},
     "output_type": "execute_result"
    }
   ],
   "source": [
    "# Create a Keyspace \n",
    "session.execute(\"\"\"\n",
    "    CREATE KEYSPACE IF NOT EXISTS udacity \n",
    "    WITH REPLICATION = \n",
    "    { 'class' : 'SimpleStrategy', 'replication_factor' : 1 }\"\"\"\n",
    ")"
   ]
  },
  {
   "cell_type": "markdown",
   "metadata": {},
   "source": [
    "#### Set Keyspace"
   ]
  },
  {
   "cell_type": "code",
   "execution_count": 7,
   "metadata": {},
   "outputs": [],
   "source": [
    "# Set KEYSPACE to the keyspace specified above\n",
    "session.set_keyspace('udacity')"
   ]
  },
  {
   "cell_type": "markdown",
   "metadata": {},
   "source": [
    "## Query 1: \n",
    "\n",
    "### Give me the artist, song title and song's length in the music app history that was heard during  sessionId = 338, and itemInSession  = 4\n",
    "\n",
    "Query 1 expects the name of the artist, title of the song, and length of the track based on sessionID and itemInSession. \n",
    "\n",
    "The query to get the data will be a SELECT statement like: \n",
    "\n",
    "`SELECT name of the artist, title of the song, length of the track FROM TABLE_NAME WHERE sessionId = value AND itemInSession = value`\n",
    "\n",
    "Based on this SELECT query, the CREATE table query will look like the following:\n",
    "\n",
    "`Table Name: music_library_by_item\n",
    "column 1: Session ID\n",
    "column 2: Item In Session\n",
    "column 3: Artist Name\n",
    "column 4: Song Title\n",
    "column 5: Song Length\n",
    "PRIMARY KEY(Session ID, Item In Session)`\n",
    "\n",
    "NOT EXIST will be added to the CREATE statement to check if the table exists and only creates the table if it does not exist. The primary key contains both sessionId and itemInSession to uniquely identify each row in the table."
   ]
  },
  {
   "cell_type": "code",
   "execution_count": 11,
   "metadata": {},
   "outputs": [
    {
     "data": {
      "text/plain": [
       "<cassandra.cluster.ResultSet at 0x7fedbbf308d0>"
      ]
     },
     "execution_count": 11,
     "metadata": {},
     "output_type": "execute_result"
    }
   ],
   "source": [
    "# Create table for Query 1\n",
    "query = \"CREATE TABLE IF NOT EXISTS music_library_by_item \"\n",
    "query = query + \"(session_id int, item_in_session int, artist_name text, song_title text, song_length float, \\\n",
    "                  PRIMARY KEY (session_id, item_in_session))\" \n",
    "\n",
    "session.execute(query)"
   ]
  },
  {
   "cell_type": "code",
   "execution_count": 12,
   "metadata": {},
   "outputs": [],
   "source": [
    "file = 'event_datafile_new.csv'\n",
    "\n",
    "with open(file, encoding = 'utf8') as f:\n",
    "    csvreader = csv.reader(f)\n",
    "    next(csvreader) # skip header\n",
    "    for line in csvreader:\n",
    "        # Assign the INSERT statements into the `query` variable\n",
    "        query = \"INSERT INTO music_library_by_item (session_id, item_in_session, artist_name, song_title, song_length)\"\n",
    "        query = query + \" VALUES (%s, %s, %s, %s, %s)\"\n",
    "        ## Assign which column element should be assigned for each column in the INSERT statement.\n",
    "        session.execute(query, (int(line[8]), int(line[3]), line[0], line[9], float(line[5])))"
   ]
  },
  {
   "cell_type": "code",
   "execution_count": 13,
   "metadata": {
    "scrolled": true
   },
   "outputs": [
    {
     "data": {
      "text/html": [
       "<div>\n",
       "<style scoped>\n",
       "    .dataframe tbody tr th:only-of-type {\n",
       "        vertical-align: middle;\n",
       "    }\n",
       "\n",
       "    .dataframe tbody tr th {\n",
       "        vertical-align: top;\n",
       "    }\n",
       "\n",
       "    .dataframe thead th {\n",
       "        text-align: right;\n",
       "    }\n",
       "</style>\n",
       "<table border=\"1\" class=\"dataframe\">\n",
       "  <thead>\n",
       "    <tr style=\"text-align: right;\">\n",
       "      <th></th>\n",
       "      <th>artist_name</th>\n",
       "      <th>song_title</th>\n",
       "      <th>song_length</th>\n",
       "    </tr>\n",
       "  </thead>\n",
       "  <tbody>\n",
       "    <tr>\n",
       "      <th>0</th>\n",
       "      <td>Faithless</td>\n",
       "      <td>Music Matters (Mark Knight Dub)</td>\n",
       "      <td>495.307312</td>\n",
       "    </tr>\n",
       "  </tbody>\n",
       "</table>\n",
       "</div>"
      ],
      "text/plain": [
       "  artist_name                       song_title  song_length\n",
       "0   Faithless  Music Matters (Mark Knight Dub)   495.307312"
      ]
     },
     "execution_count": 13,
     "metadata": {},
     "output_type": "execute_result"
    }
   ],
   "source": [
    "# Add in the SELECT statement to verify the data was entered into the table\n",
    "query = \"SELECT artist_name, song_title, song_length FROM music_library_by_item WHERE session_id=338 AND item_in_session=4\"\n",
    "\n",
    "# Execute query\n",
    "rows = session.execute(query)\n",
    "\n",
    "# Convert to pandas dataframe\n",
    "df = pd.DataFrame(data=list(rows))\n",
    "\n",
    "# Show only the following columns of dataframe\n",
    "df[['artist_name','song_title','song_length']]"
   ]
  },
  {
   "cell_type": "markdown",
   "metadata": {},
   "source": [
    "## Query 2: \n",
    "\n",
    "### Give me only the following: name of artist, song (sorted by itemInSession) and user (first and last name) for userId = 10, sessionId = 182\n",
    "\n",
    "Query 2 expects the name of the artist, title of the song sorted by itemInSession, and the user's first and last names based on userId and sessionId. \n",
    "\n",
    "The query to get the data will be a SELECT statement like: \n",
    "\n",
    "`SELECT name of the artist, title of the song, first name of the user, last name of the user FROM TABLE_NAME WHERE userId = value AND sessionId = value`\n",
    "\n",
    "Based on this SELECT query, the CREATE table query will look like the following:\n",
    "\n",
    "`Table Name: music_library_by_user\n",
    "column 1: User ID\n",
    "column 2: Session ID\n",
    "column 3: Item In Session\n",
    "column 4: Artist Name\n",
    "column 5: Song Title\n",
    "column 6: User First Name\n",
    "column 7: User Last Name\n",
    "PRIMARY KEY((User ID, Session ID), Item In Session))`\n",
    "\n",
    "NOT EXIST will be added to the CREATE statement to check if the table exists and only creates the table if it does not exist. The primary key contains both user ID and itemInSession to uniquely identify each row in the table. Additionally, the primary key includes a clustering column, itemInSession, to sort the songs by itemInSession in ascending order."
   ]
  },
  {
   "cell_type": "code",
   "execution_count": 14,
   "metadata": {},
   "outputs": [
    {
     "data": {
      "text/plain": [
       "<cassandra.cluster.ResultSet at 0x7fedbbf3d5f8>"
      ]
     },
     "execution_count": 14,
     "metadata": {},
     "output_type": "execute_result"
    }
   ],
   "source": [
    "# Create table for Query 2\n",
    "query = \"CREATE TABLE IF NOT EXISTS music_library_by_user \"\n",
    "query = query + \"(user_id int, session_id int, item_in_session int, \\\n",
    "                  artist_name text, song_title text, user_firstname text, user_lastname text, \\\n",
    "                  PRIMARY KEY ((user_id, session_id), item_in_session))\" \n",
    "\n",
    "session.execute(query)                    "
   ]
  },
  {
   "cell_type": "code",
   "execution_count": 15,
   "metadata": {},
   "outputs": [],
   "source": [
    "file = 'event_datafile_new.csv'\n",
    "\n",
    "with open(file, encoding = 'utf8') as f:\n",
    "    csvreader = csv.reader(f)\n",
    "    next(csvreader) # skip header\n",
    "    for line in csvreader:\n",
    "        # Assign the INSERT statements into the `query` variable\n",
    "        query = \"INSERT INTO music_library_by_user (user_id, session_id, item_in_session, \\\n",
    "                 artist_name, song_title, user_firstname, user_lastname)\"\n",
    "        query = query + \" VALUES (%s, %s, %s, %s, %s, %s, %s)\"\n",
    "        #Assign which column element should be assigned for each column in the INSERT statement.\n",
    "        session.execute(query, (int(line[10]), int(line[8]), int(line[3]), line[0], line[9], line[1], line[4])) "
   ]
  },
  {
   "cell_type": "code",
   "execution_count": 16,
   "metadata": {},
   "outputs": [
    {
     "data": {
      "text/html": [
       "<div>\n",
       "<style scoped>\n",
       "    .dataframe tbody tr th:only-of-type {\n",
       "        vertical-align: middle;\n",
       "    }\n",
       "\n",
       "    .dataframe tbody tr th {\n",
       "        vertical-align: top;\n",
       "    }\n",
       "\n",
       "    .dataframe thead th {\n",
       "        text-align: right;\n",
       "    }\n",
       "</style>\n",
       "<table border=\"1\" class=\"dataframe\">\n",
       "  <thead>\n",
       "    <tr style=\"text-align: right;\">\n",
       "      <th></th>\n",
       "      <th>artist_name</th>\n",
       "      <th>song_title</th>\n",
       "      <th>user_firstname</th>\n",
       "      <th>user_lastname</th>\n",
       "    </tr>\n",
       "  </thead>\n",
       "  <tbody>\n",
       "    <tr>\n",
       "      <th>0</th>\n",
       "      <td>Down To The Bone</td>\n",
       "      <td>Keep On Keepin' On</td>\n",
       "      <td>Sylvie</td>\n",
       "      <td>Cruz</td>\n",
       "    </tr>\n",
       "    <tr>\n",
       "      <th>1</th>\n",
       "      <td>Three Drives</td>\n",
       "      <td>Greece 2000</td>\n",
       "      <td>Sylvie</td>\n",
       "      <td>Cruz</td>\n",
       "    </tr>\n",
       "    <tr>\n",
       "      <th>2</th>\n",
       "      <td>Sebastien Tellier</td>\n",
       "      <td>Kilometer</td>\n",
       "      <td>Sylvie</td>\n",
       "      <td>Cruz</td>\n",
       "    </tr>\n",
       "    <tr>\n",
       "      <th>3</th>\n",
       "      <td>Lonnie Gordon</td>\n",
       "      <td>Catch You Baby (Steve Pitron &amp; Max Sanna Radio...</td>\n",
       "      <td>Sylvie</td>\n",
       "      <td>Cruz</td>\n",
       "    </tr>\n",
       "  </tbody>\n",
       "</table>\n",
       "</div>"
      ],
      "text/plain": [
       "         artist_name                                         song_title  \\\n",
       "0   Down To The Bone                                 Keep On Keepin' On   \n",
       "1       Three Drives                                        Greece 2000   \n",
       "2  Sebastien Tellier                                          Kilometer   \n",
       "3      Lonnie Gordon  Catch You Baby (Steve Pitron & Max Sanna Radio...   \n",
       "\n",
       "  user_firstname user_lastname  \n",
       "0         Sylvie          Cruz  \n",
       "1         Sylvie          Cruz  \n",
       "2         Sylvie          Cruz  \n",
       "3         Sylvie          Cruz  "
      ]
     },
     "execution_count": 16,
     "metadata": {},
     "output_type": "execute_result"
    }
   ],
   "source": [
    "# Add in the SELECT statement to verify the data was entered into the table\n",
    "query = \"SELECT artist_name, song_title, user_firstname, user_lastname FROM music_library_by_user WHERE user_id=10 AND session_id=182\"\n",
    "\n",
    "# Execute query\n",
    "rows = session.execute(query)\n",
    "\n",
    "# Convert to pandas dataframe\n",
    "df = pd.DataFrame(data=list(rows))\n",
    "\n",
    "# Show only the following columns of dataframe\n",
    "df[['artist_name','song_title', 'user_firstname','user_lastname']]"
   ]
  },
  {
   "cell_type": "markdown",
   "metadata": {},
   "source": [
    "## Query 3: \n",
    "\n",
    "### Give me every user name (first and last) in my music app history who listened to the song 'All Hands Against His Own'\n",
    "\n",
    "Query 3 expects the user's first and last names based on the title of the song. \n",
    "\n",
    "The query to get the data will be a SELECT statement like: \n",
    "\n",
    "`SELECT first name of the user, last name of the user FROM TABLE_NAME WHERE song title = value`\n",
    "\n",
    "Based on this SELECT query, the CREATE table query will look like the following:\n",
    "\n",
    "`Table Name: users_to_songs\n",
    "column 1: Song Title\n",
    "column 2: User ID\n",
    "column 3: User First Name\n",
    "column 4: User Last Name\n",
    "PRIMARY KEY(Song Title, User ID)`\n",
    "\n",
    "NOT EXIST will be added to the CREATE statement to check if the table exists and only creates the table if it does not exist. The primary key contains both the title of the song and the user's ID to uniquely identify each row in the table. Using both the user's first and last names as part of the primary key may not be unique enough. The user's ID, however, should be unique for each user."
   ]
  },
  {
   "cell_type": "code",
   "execution_count": 17,
   "metadata": {},
   "outputs": [
    {
     "data": {
      "text/plain": [
       "<cassandra.cluster.ResultSet at 0x7fed90deee80>"
      ]
     },
     "execution_count": 17,
     "metadata": {},
     "output_type": "execute_result"
    }
   ],
   "source": [
    "# Create table for Query 3\n",
    "query = \"CREATE TABLE IF NOT EXISTS users_to_songs \"\n",
    "query = query + \"(song_title text, user_id int, user_firstname text, user_lastname text, \\\n",
    "                  PRIMARY KEY (song_title, user_id))\" \n",
    "\n",
    "session.execute(query)                   "
   ]
  },
  {
   "cell_type": "code",
   "execution_count": 19,
   "metadata": {},
   "outputs": [],
   "source": [
    "file = 'event_datafile_new.csv'\n",
    "\n",
    "with open(file, encoding = 'utf8') as f:\n",
    "    csvreader = csv.reader(f)\n",
    "    next(csvreader) # skip header\n",
    "    for line in csvreader:\n",
    "        # Assign the INSERT statements into the `query` variable\n",
    "        query = \"INSERT INTO users_to_songs (song_title, user_id, user_firstname, user_lastname)\"\n",
    "        query = query + \" VALUES (%s, %s, %s, %s)\"\n",
    "        # Assign which column element should be assigned for each column in the INSERT statement.\n",
    "        session.execute(query, (line[9], int(line[10]), line[1], line[4])) "
   ]
  },
  {
   "cell_type": "code",
   "execution_count": 20,
   "metadata": {},
   "outputs": [
    {
     "data": {
      "text/html": [
       "<div>\n",
       "<style scoped>\n",
       "    .dataframe tbody tr th:only-of-type {\n",
       "        vertical-align: middle;\n",
       "    }\n",
       "\n",
       "    .dataframe tbody tr th {\n",
       "        vertical-align: top;\n",
       "    }\n",
       "\n",
       "    .dataframe thead th {\n",
       "        text-align: right;\n",
       "    }\n",
       "</style>\n",
       "<table border=\"1\" class=\"dataframe\">\n",
       "  <thead>\n",
       "    <tr style=\"text-align: right;\">\n",
       "      <th></th>\n",
       "      <th>user_firstname</th>\n",
       "      <th>user_lastname</th>\n",
       "    </tr>\n",
       "  </thead>\n",
       "  <tbody>\n",
       "    <tr>\n",
       "      <th>0</th>\n",
       "      <td>Jacqueline</td>\n",
       "      <td>Lynch</td>\n",
       "    </tr>\n",
       "    <tr>\n",
       "      <th>1</th>\n",
       "      <td>Tegan</td>\n",
       "      <td>Levine</td>\n",
       "    </tr>\n",
       "    <tr>\n",
       "      <th>2</th>\n",
       "      <td>Sara</td>\n",
       "      <td>Johnson</td>\n",
       "    </tr>\n",
       "  </tbody>\n",
       "</table>\n",
       "</div>"
      ],
      "text/plain": [
       "  user_firstname user_lastname\n",
       "0     Jacqueline         Lynch\n",
       "1          Tegan        Levine\n",
       "2           Sara       Johnson"
      ]
     },
     "execution_count": 20,
     "metadata": {},
     "output_type": "execute_result"
    }
   ],
   "source": [
    "# Add in the SELECT statement to verify the data was entered into the table\n",
    "query = \"SELECT user_firstname, user_lastname FROM users_to_songs WHERE song_title='All Hands Against His Own'\"\n",
    "\n",
    "# Execute query\n",
    "rows = session.execute(query)\n",
    "\n",
    "# Convert to pandas dataframe\n",
    "df = pd.DataFrame(data=list(rows))\n",
    "\n",
    "# Show only the following columns of dataframe\n",
    "df[['user_firstname','user_lastname']]"
   ]
  },
  {
   "cell_type": "markdown",
   "metadata": {},
   "source": [
    "### Drop the tables before closing out the sessions"
   ]
  },
  {
   "cell_type": "code",
   "execution_count": 17,
   "metadata": {},
   "outputs": [
    {
     "data": {
      "text/plain": [
       "<cassandra.cluster.ResultSet at 0x7ffa878efc50>"
      ]
     },
     "execution_count": 17,
     "metadata": {},
     "output_type": "execute_result"
    }
   ],
   "source": [
    "query = \"DROP TABLE music_library_by_item\"\n",
    "session.execute(query)"
   ]
  },
  {
   "cell_type": "code",
   "execution_count": 18,
   "metadata": {},
   "outputs": [
    {
     "data": {
      "text/plain": [
       "<cassandra.cluster.ResultSet at 0x7ffa5c7ee160>"
      ]
     },
     "execution_count": 18,
     "metadata": {},
     "output_type": "execute_result"
    }
   ],
   "source": [
    "query = \"DROP TABLE music_library_by_user\"\n",
    "session.execute(query)"
   ]
  },
  {
   "cell_type": "code",
   "execution_count": 19,
   "metadata": {},
   "outputs": [
    {
     "data": {
      "text/plain": [
       "<cassandra.cluster.ResultSet at 0x7ffa5c7eeb00>"
      ]
     },
     "execution_count": 19,
     "metadata": {},
     "output_type": "execute_result"
    }
   ],
   "source": [
    "query = \"DROP TABLE users_to_songs\"\n",
    "session.execute(query)"
   ]
  },
  {
   "cell_type": "markdown",
   "metadata": {},
   "source": [
    "### Close the session and cluster connection¶"
   ]
  },
  {
   "cell_type": "code",
   "execution_count": 20,
   "metadata": {},
   "outputs": [],
   "source": [
    "session.shutdown()\n",
    "cluster.shutdown()"
   ]
  },
  {
   "cell_type": "code",
   "execution_count": 21,
   "metadata": {},
   "outputs": [
    {
     "name": "stdout",
     "output_type": "stream",
     "text": [
      "altair==1.2.1\n",
      "asn1crypto==0.22.0\n",
      "atari-py==0.1.7\n",
      "atomicwrites==1.3.0\n",
      "attrs==19.1.0\n",
      "audioread==2.1.6\n",
      "av==0.3.3\n",
      "awscli==1.16.17\n",
      "backcall==0.1.0\n",
      "backports.functools-lru-cache==1.4\n",
      "backports.weakref==1.0rc1\n",
      "beautifulsoup4==4.6.0\n",
      "bleach==1.5.0\n",
      "blinker==1.4\n",
      "bokeh==0.12.13\n",
      "boto==2.48.0\n",
      "boto3==1.9.7\n",
      "botocore==1.12.7\n",
      "Box2D==2.3.2\n",
      "Box2D-kengz==2.3.3\n",
      "bresenham==0.2\n",
      "bz2file==0.98\n",
      "cassandra-driver==3.11.0\n",
      "certifi==2019.6.16\n",
      "cffi==1.11.2\n",
      "chardet==3.0.4\n",
      "click==6.7\n",
      "cloudpickle==0.2.2\n",
      "colorama==0.3.9\n",
      "colour==0.1.5\n",
      "conda==4.6.14\n",
      "cryptography==2.1.4\n",
      "cycler==0.10.0\n",
      "Cython==0.29.7\n",
      "cytoolz==0.9.0.1\n",
      "dask==0.16.1\n",
      "decorator==4.0.11\n",
      "defusedxml==0.5.0\n",
      "dill==0.2.7.1\n",
      "docutils==0.14\n",
      "dronekit==2.9.2\n",
      "entrypoints==0.2.3\n",
      "et-xmlfile==1.0.1\n",
      "eventlet==0.22.0\n",
      "fastcache==1.0.2\n",
      "Flask==0.12.2\n",
      "Flask-SocketIO==2.9.2\n",
      "future==0.16.0\n",
      "gensim==3.4.0\n",
      "glfw==1.8.0\n",
      "greenlet==0.4.12\n",
      "gym==0.9.6\n",
      "h5py==2.7.1\n",
      "heapdict==1.0.0\n",
      "html2text==2018.1.9\n",
      "html5lib==0.9999999\n",
      "idna==2.6\n",
      "imageio==2.1.2\n",
      "ipykernel==4.9.0\n",
      "ipython==6.5.0\n",
      "ipython-genutils==0.2.0\n",
      "ipython-sql==0.3.9\n",
      "ipywidgets==7.0.5\n",
      "itsdangerous==0.24\n",
      "jdc==0.0.8\n",
      "jdcal==1.3\n",
      "jedi==0.10.2\n",
      "jieba==0.39\n",
      "Jinja2==2.10\n",
      "jmespath==0.9.3\n",
      "joblib==0.11\n",
      "json5==0.8.5\n",
      "jsonschema==2.6.0\n",
      "jupyter-client==5.2.4\n",
      "jupyter-core==4.4.0\n",
      "jupyterlab==1.0.9\n",
      "jupyterlab-server==1.0.0\n",
      "Keras==2.0.9\n",
      "librosa==0.5.1\n",
      "llvmlite==0.20.0\n",
      "locket==0.2.0\n",
      "lockfile==0.12.2\n",
      "lxml==4.1.1\n",
      "Mako==1.0.7\n",
      "Markdown==2.6.9\n",
      "MarkupSafe==1.0\n",
      "matplotlib==2.1.0\n",
      "mistune==0.8.3\n",
      "mock==2.0.0\n",
      "monotonic==1.3\n",
      "more-itertools==7.0.0\n",
      "moviepy==0.2.3.2\n",
      "msgpack==0.5.6\n",
      "msgpack-python==0.4.8\n",
      "mujoco-py==1.50.1.59\n",
      "nbconvert==5.4.0\n",
      "nbformat==4.4.0\n",
      "nbzip==0.1.0\n",
      "networkx==1.11\n",
      "nltk==3.2.5\n",
      "notebook==5.7.0\n",
      "numba==0.35.0\n",
      "numexpr==2.6.4\n",
      "numpy==1.12.1\n",
      "oauthlib==2.0.6\n",
      "olefile==0.44\n",
      "openpyxl==2.5.0b1\n",
      "packaging==16.8\n",
      "pandas==0.23.3\n",
      "pandocfilters==1.4.1\n",
      "parso==0.4.0\n",
      "partd==0.3.8\n",
      "patsy==0.4.1\n",
      "pbr==3.1.1\n",
      "pexpect==4.3.1\n",
      "pickleshare==0.7.4\n",
      "Pillow==5.2.0\n",
      "pinyin==0.4.0\n",
      "plotly==2.0.15\n",
      "pluggy==0.11.0\n",
      "pomegranate==0.9.0\n",
      "prettytable==0.7.2\n",
      "prometheus-client==0.3.1\n",
      "prompt-toolkit==1.0.15\n",
      "protobuf==3.5.1\n",
      "psutil==5.4.0\n",
      "psycopg2==2.7.4\n",
      "ptyprocess==0.5.2\n",
      "py==1.8.0\n",
      "py4j==0.10.7\n",
      "pyasn1==0.4.4\n",
      "pycosat==0.6.3\n",
      "pycparser==2.18\n",
      "pycurl==7.43.0\n",
      "pydot==1.2.4\n",
      "pydotplus==2.0.2\n",
      "pyglet==1.3.0\n",
      "Pygments==2.2.0\n",
      "pygpu==0.7.5\n",
      "PyJWT==1.5.3\n",
      "pymavlink==2.2.20\n",
      "pymc3==3.2\n",
      "PyOpenGL==3.1.0\n",
      "pyOpenSSL==17.4.0\n",
      "pyparsing==2.2.0\n",
      "pyrsistent==0.15.2\n",
      "PySocks==1.6.8\n",
      "pyspark==2.4.3\n",
      "pytest==4.5.0\n",
      "python-crfsuite==0.9.2\n",
      "python-dateutil==2.6.1\n",
      "python-engineio==2.0.2\n",
      "python-socketio==1.8.4\n",
      "python-speech-features==0.6\n",
      "pytz==2017.3\n",
      "PyWavelets==0.5.2\n",
      "PyYAML==3.12\n",
      "pyzmq==17.1.2\n",
      "requests==2.18.4\n",
      "requests-oauthlib==0.8.0\n",
      "requests-toolbelt==0.9.1\n",
      "resampy==0.2.0\n",
      "rsa==3.4.2\n",
      "ruamel-yaml==0.11.14\n",
      "s3transfer==0.1.13\n",
      "scikit-image==0.14.2\n",
      "scikit-learn==0.19.1\n",
      "scipy==0.19.1\n",
      "seaborn==0.8.1\n",
      "SeekWell==0.1\n",
      "Send2Trash==1.5.0\n",
      "Shapely==1.6.4.post1\n",
      "simplegeneric==0.8.1\n",
      "SimpleWebSocketServer==0.1.1\n",
      "six==1.11.0\n",
      "smart-open==1.5.6\n",
      "snownlp==0.12.3\n",
      "SoundFile==0.9.0.post1\n",
      "SQLAlchemy==1.1.13\n",
      "sqlparse==0.3.0\n",
      "statsmodels==0.8.0\n",
      "sympy==1.0\n",
      "tensorflow==1.3.0\n",
      "terminado==0.8.1\n",
      "testpath==0.3.1\n",
      "Theano==1.0.1\n",
      "toolz==0.8.2\n",
      "torch==0.4.0\n",
      "torchvision==0.2.1\n",
      "tornado==4.5.3\n",
      "tqdm==4.11.2\n",
      "traitlets==4.3.2\n",
      "tweepy==3.5.0\n",
      "twython==3.6.0\n",
      "udacity-pa==0.2.7\n",
      "urllib3==1.22\n",
      "utm==0.4.2\n",
      "uvloop==0.8.1\n",
      "vega==0.4.4\n",
      "vincent==0.4.4\n",
      "wcwidth==0.1.7\n",
      "webencodings==0.5\n",
      "websockets==4.0.1\n",
      "Werkzeug==0.14.1\n",
      "widgetsnbextension==3.1.0\n",
      "wordcloud==1.4.1\n",
      "wptools==0.4.7\n",
      "xlrd==1.1.0\n"
     ]
    }
   ],
   "source": [
    "# list of packages and versions \n",
    "!pip freeze"
   ]
  },
  {
   "cell_type": "code",
   "execution_count": 22,
   "metadata": {},
   "outputs": [
    {
     "name": "stdout",
     "output_type": "stream",
     "text": [
      "Python 3.6.3\n"
     ]
    }
   ],
   "source": [
    "!python --version"
   ]
  },
  {
   "cell_type": "code",
   "execution_count": null,
   "metadata": {},
   "outputs": [],
   "source": []
  }
 ],
 "metadata": {
  "kernelspec": {
   "display_name": "Python 3",
   "language": "python",
   "name": "python3"
  },
  "language_info": {
   "codemirror_mode": {
    "name": "ipython",
    "version": 3
   },
   "file_extension": ".py",
   "mimetype": "text/x-python",
   "name": "python",
   "nbconvert_exporter": "python",
   "pygments_lexer": "ipython3",
   "version": "3.6.3"
  }
 },
 "nbformat": 4,
 "nbformat_minor": 4
}
